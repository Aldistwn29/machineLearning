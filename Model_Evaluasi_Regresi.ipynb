{
  "nbformat": 4,
  "nbformat_minor": 0,
  "metadata": {
    "colab": {
      "provenance": [],
      "authorship_tag": "ABX9TyP2y2HQ9UiQ+eRsOuEI21a3",
      "include_colab_link": true
    },
    "kernelspec": {
      "name": "python3",
      "display_name": "Python 3"
    },
    "language_info": {
      "name": "python"
    }
  },
  "cells": [
    {
      "cell_type": "markdown",
      "metadata": {
        "id": "view-in-github",
        "colab_type": "text"
      },
      "source": [
        "<a href=\"https://colab.research.google.com/github/Aldistwn29/machineLearning/blob/main/Model_Evaluasi_Regresi.ipynb\" target=\"_parent\"><img src=\"https://colab.research.google.com/assets/colab-badge.svg\" alt=\"Open In Colab\"/></a>"
      ]
    },
    {
      "cell_type": "markdown",
      "source": [
        "\"Pengaplikasian R squared dalam konteks nilai prediksinya sudah di regressionnya\"\n",
        "\n",
        "\n",
        "\n",
        "> ![Screenshot 2024-03-27 011832.png](data:image/png;base64,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)\n",
        "\n",
        "\n",
        "\n"
      ],
      "metadata": {
        "id": "etnmCS4v80A3"
      }
    },
    {
      "cell_type": "code",
      "execution_count": 6,
      "metadata": {
        "colab": {
          "base_uri": "https://localhost:8080/"
        },
        "id": "2LApAC9M8Q6X",
        "outputId": "501860b5-bf92-48f9-d256-4dc9c9bbb08f"
      },
      "outputs": [
        {
          "output_type": "stream",
          "name": "stdout",
          "text": [
            "R-squared : -0.8999999999999999\n"
          ]
        }
      ],
      "source": [
        "from sklearn.metrics import r2_score\n",
        "y = [1,2,3,4,5]\n",
        "y_pred= [2,3,5,2,2]\n",
        "\n",
        "# Hitung R-squared\n",
        "r_squared = r2_score(y, y_pred)\n",
        "print('R-squared :', r_squared)"
      ]
    },
    {
      "cell_type": "markdown",
      "source": [
        "# Perhitungan Manualnya"
      ],
      "metadata": {
        "id": "8o5ZASB99sld"
      }
    },
    {
      "cell_type": "markdown",
      "source": [
        "dengan nilai y dan y_pred nya sbb:\n",
        "\n",
        "> y = [1,2,3,4,5]\n",
        "  | y_pred= [2,3,5,2,2]\n",
        "\n",
        "\n",
        "\n",
        "Hitung Rata-rata dari y : y_pred = 1/n ∑\n",
        "i=1  y\n",
        "\n",
        "y_pred = 1/5 (1+2+3+4+5/5)\n",
        "= 15/5\n",
        "= 3\n",
        "\n",
        "\n",
        "> y_pred = 1/5 (1+2+3+4+5/5)\n",
        "= 15/5\n",
        "= 3\n",
        "\n",
        "\n",
        "> Hitung SST : (1-3)^2+(2-3)^2+(3-3)^2+(4-3)^2+(5-3)^2\n",
        " = 4+1+0+1+4\n",
        " = 10\n",
        "\n",
        "\n",
        "\n",
        "> Hitung SSE : (1-2)^2+(2-3)^2+(3-5)^2+(4-2)^2+(5-2)^2\n",
        "= 1+1+4+4+9\n",
        "=19\n",
        "\n",
        "\n",
        "\n",
        "> Hitung R-squared : 1 - 19/10\n",
        "= 1 - 1,9\n",
        "= -0.8999999999999999/ -0.9\n",
        "\n",
        "\n",
        "\n",
        "\n",
        "\n",
        "\n",
        "\n",
        "\n"
      ],
      "metadata": {
        "id": "zLFfCAtK93sk"
      }
    },
    {
      "cell_type": "code",
      "source": [
        "print(1-1.9)"
      ],
      "metadata": {
        "colab": {
          "base_uri": "https://localhost:8080/"
        },
        "id": "c0P2o63D-RAO",
        "outputId": "06e85ac3-9f4d-4c7b-dcb7-5034e45858bc"
      },
      "execution_count": 9,
      "outputs": [
        {
          "output_type": "stream",
          "name": "stdout",
          "text": [
            "-0.8999999999999999\n"
          ]
        }
      ]
    },
    {
      "cell_type": "markdown",
      "source": [
        "\"Pengaplikasian MSE jika prediksi Regressionnya sudah di ketahui\"\n",
        "\n",
        "\n",
        "> ![Screenshot 2024-03-27 014235.png](data:image/png;base64,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)\n",
        "\n"
      ],
      "metadata": {
        "id": "M1rXvupRD8BJ"
      }
    },
    {
      "cell_type": "code",
      "source": [
        "from sklearn.metrics import mean_squared_error\n",
        "y_mse = [1,2,3,4,5]\n",
        "y_pred_mse = [2,3,5,2,2]\n",
        "\n",
        "# Hitung MSE\n",
        "mse = mean_squared_error(y_mse, y_pred_mse)\n",
        "print('MSE: ', mse)"
      ],
      "metadata": {
        "colab": {
          "base_uri": "https://localhost:8080/"
        },
        "id": "r_-mzgIlGQAU",
        "outputId": "09be4904-6cd0-443d-f702-933f52c10cbd"
      },
      "execution_count": 12,
      "outputs": [
        {
          "output_type": "stream",
          "name": "stdout",
          "text": [
            "MSE:  3.8\n"
          ]
        }
      ]
    },
    {
      "cell_type": "markdown",
      "source": [
        "**Hitungan Manualnya**\n",
        "\n",
        "*   Menghitung selisih antara data aktual dan faktual : (1-2)^2+(2-3)^2+(3-5)^2+(4-2)^2+(5-2)^2 = (-1)^2+(-1)^2+(-2)^2+(2)^2+(3)^2 = 1+1+4+4+9 =19\n",
        "*  kemudian bagi dengan smpel datanya : 19/5 = 3,8\n",
        "\n",
        "\n",
        "\n"
      ],
      "metadata": {
        "id": "0qt9lNgsG8oS"
      }
    },
    {
      "cell_type": "markdown",
      "source": [
        "\"Pengaplikasian RMSE dalam konteks prediksi linear Regressionya sudah di ketahui\"\n",
        "\n",
        "\n",
        "> ![Screenshot 2024-03-27 021152.png](data:image/png;base64,iVBORw0KGgoAAAANSUhEUgAAAPEAAAAlCAYAAACTZA8wAAAAAXNSR0IArs4c6QAAAARnQU1BAACxjwv8YQUAAAAJcEhZcwAAFiUAABYlAUlSJPAAAAxbSURBVHhe7Zx5sM1VHMCPJUpJkiGVpkSyNDQ0LQoVFSHjmUwkWsYWEiPLTGX9oxqmmSyDsk01iTRla2dkyZpUlixtlEhEZT+dz7dzbr933+/3u/fd+8jjfGbuvHPP797f76zf893uK6INyuPxFFr8JvacEjZu3Kj69u1r33kcc+fOtaXM8ZvYc0ro3bu3qlChgn3ncQwaNMiWMsdvYs9J54svvlC333672rt3rypevLit9RQURe1fj+ekMXnyZNWjRw+/gU8S/iT2nFTcKfzdd9+piy++2NZ6CpKzchP//fff6ttvv1X79+9X559/vrrmmmvUhRdeKNcYjm3btqnLL79clSxZUuo8mYMtfOzYMTVmzBhbc/pR2NdD5Cb+6quv1JAhQ9TRo0dtTTRVqlRRN998s2rYsKEqX768rQ1n06ZNct+//vrL1vzLFVdcoYYNG6YuuugiWxMPC2PChAnqgw8+sDX/0a1bN3X33Xfbd//x+++/q4kTJ8qCuuSSS+SZe/bskUnq2rWrevLJJ+V+H3/8sXrhhRfUBRdcYL+Zv/EIg+c999xzshjOFtwpvH79enXllVfa2tz49ZD9eojcxD/++KOaPXu2On78uFqyZIl0hk489NBDqmLFivZTSq6vWbNGLVy4UJ1zzjmqf//+6pFHHlHnnXee/URufv75Z/X222+rI0eOJO4LtWvXVlOmTFFVq1aV96lYtGiRevzxx9Uvv/wi7WrTpo26+uqrVbly5VTz5s3lb5CtW7dKiIPFMnLkSHXDDTeookWLJiTtgAEDxPHC/Wh/cjiEhfjRRx+pgwcPqnnz5qmvv/4613OT4V4rV65UX375pXzntttuU5MmTVKXXnqp/cSZD6cwfX/llVdsTV78eiiA9cAmjsOoGvqpp57SpUuX1i1bttS7d++2V3KzevVqfcstt8jnRo0apY2EslfCOXz4sDYDpXv06KFvuukmbTqjV6xYYa/GQxuMlNTdu3eX5zVr1kzv3LnTXs3Lrl27dLt27eS1Y8cOW5ubjRs3Jtr/ySef2Nq8mEnXTzzxRFrPBTO5unHjxjonJ0cbyW9rz3zWrVuny5QpI3/Twa+HzEnpnUZqbNmyRco1atRI2ArJ1KpVS1QneP3118XGiOPAgQNyXzNQIsF4jpkMezUa02Y1a9YsVadOHZGcUL16dVW2bFkpJ4OmMH36dJHUXbp0UZUqVbJXcnPVVVdJ+zkB4lQc1C0SF+D666/PI+GTufbaa8XMuOyyy84qG3vatGmqdevWMkbp4NdD5qTcxD/99JPasGGDlOvWratKlCgh5Tiwc7755hv7LhzUqCJFisjgO7sHx0IqUFuM9FRGWicGr2bNmurcc8+VcjK0n6yY+vXri6CJgn7RDu4Vp+L88MMP6vPPP5cyql6q8ShWrJjcj0SHqDaeaTD3qMKPPvqorUmNXw+Zk3ITb968WewC7OBq1arZ2rwcOnRIBhOQpJUrV5ZyFGx0pCD3RSoBAxIH9ssbb7yh2rdvLxKQweP72DNRMMmrVq0SKe0kdRxIStofBc4aiHouns4///zTvvsXHChMGov0bGDq1Knq3nvvVQ0aNLA1qfHrIXNie4GzYe3atVJGauG9iwL1efny5VJu0qRJrEMClQbvHuoHao9Lx0Ma0+kocCAwqAgTN3g8x30/DNQyYPK2b98u5SiQvEj0KFwoAqKey6LiFHLQVwScsQ9tzZkNQp/+P/zww7YmNX49ZEfsJsZOQUICg2WMdykng3sfFYUTGxsCr6RTicLgvqjo2NhII9d5TvLDhw9LORmkMkKiZcuWMgjp2iGoL0Db8DC+//77ecIZDmykW2+91b7LC9KeyYew5+7bt0/CEaiEDp7fr18/1aJFC1tzZsMpfMcdd6i77rrL1qTGr4fsiN3EhJmQkBBlDzMAY8eOVePHj1f33HOPGjduXKw6A9glJ06cSMQOnVTiXmGSFyGBsywnJ0eEQ9CZgASMs0NYGAggIBTWtm1bUX2YfNqNy5+2pEPQ/mHSgs91qh3OmGRTggSCVLbS6cqyZcsk1JgOhGbYxJ06dbI16eHXQ3bEZmzNmDFDPfbYY1IeNWpUovMMIs4LpBkqDQkeBNTZxOl43PAmLl26VI0YMUKMeyRq06ZNxYnAIki2vfEkMuA9e/aU/FviidhcDD5tDEq6ZOjezJkzEzHLMIh9E7gnAB8HSQEDBw6078JBjXz++ecj4+TpwMKlzSzObClVqpTELlP1LQziu3369FE33nijxERT8eyzz8rJRNvzg18P2RF5EgftYVRkFhQOAV6rV6+WgXzppZckW4tTuFWrVmltYGf/BD2I5NTyngVAUDwIz33vvffUAw88kEigT9f+AdQzJPa7776rOnToEBp6IOQwevToSNUN2FhO2terV0+9+eabYkLwYrFzbyC8ke2E4XDJVFKTMkj73IsTIhMvaK9evWQDw4oVKyQhIw60NjZcfmxh8OuhAOAkDsMMlm7durUEsQnCE4wPYgZfv/baa3Kd4PWWLVvslXgIcJsJ0EZNszVaAuQEyrmXkZK2Vmuj1mgjIPScOXNsTe7geli7UkESyubNm/XEiRO1sUvkPrzMRGijXdhP5cWoTtrYeZHPJeGAZJjPPvvM1hRemAuj2mqjKupKlSpJn81pbq+GM3ToUBnP/OLXQ/ZEnsSp7GFOC7N5JX2M03nBggX2SjzJ9g8gqVD7ABXdgSTGuYGjxIEkTtf+CQPpzfcwE9566y01ePBgqceBFxeXjLN/AMmMLZds/yCZn3nmmYxzbP8POKn41RFqtDtZSYf89NNPpZyM2XRyCnfs2NHWpI9fD9kTuYnTjQ87fvvtN1GNUuHigUHvNWq4iw0yKdzHOQaIAQbVETd4tCvOgUZuK/nccfBc8moxCVIRjAded911Ug6ChxXVKWhH0Qd8Biw68soLC507d7YllWtjGs3LlnLDBib8yObPL349ZE/oJk43Prxr165EnIwBcO77KJz9g+QKTgRllxVDINyoJmL3ICGTBUg69g/PwYYjzpgK2o3UZ+KigvpB+4cJC0vDw+vJv1oJ9osxZOLiHC2nOyxENg7gNOI0DILwJsXSOUDzg18PBUPoJv7jjz8SaZNx8WF3WkNcVouDuBmTRgeTcT9h/P777+UzeCjvv/9+cUQ48CauW7dOykx8VDyQDBl+pZJKqACfJQxAUD/s1ycQVNloe1T+eBAkMYsbkyMuZh4G40Tog+dk+8IUcmZRpgRPY/5LRxBOYVRJt9Hzg18PBUPoJsZOSZUvTYDd2QSQ6nfE4PJjg/aPA7UEEAxDhw6VhZPcWaSyy7JB8kbZPwgWNAQmIw4kNMF4FsN9992XsMOSITE/zv5JRmstPgLipiS75xf6TZYPdmm2L6IIeHqzgd+Ks/iA+Oyvv/4qZU4kNjHhmkzw66FgCN3ExOBS2cM0jE6HgdQkK4WN7uDzOMBQecIkkfvXLTjUSNtkcJJxg5fK/uFzqH3YQKj8UZDI8Oqrr6oHH3wwl7MkGaeVRNk/QVD9sB3pf6NGjTL+0TcJAYxJti9OieDplSlkLwEL3J3G/GUjZeLQ8uuh4JBAGwPKyYt9w0Pnz58vF1FPkHSoApRpsFsQSJ+w0xfpTPAeyY19gfRBJVq8eLEifobajYMCWwt726ki3J94NE6Odu3aJVQfPJ+oQggMl0TAAkdCh7WLvqBiEf9j4gjG4w1E2rvP4A398MMPxWYhrW7AgAG5bJfgeGBahI1HMiTAEE9955135LlMMMkv6ahwhYFmzZrJz/PoP6fv008/LX9ZnC5emwrGle/79VDAmAZKrC4nJycRIwt7DR8+XJuG8fEEpgO6VatWcp2/s2fP1n369NH9+/fXxrbQpsO6U6dOee7Fy6g/2hj69k7/xqWNHZjrB9jmJNdmkYR+372SY3T79+/X5mTQM2bM0EZdS/xQ3EhW3blzZ21UP20mSleuXFm//PLLEmdMxkyWNvZXnmfl59W1a1cZgzMJo+In+mdOLPmbnz769XBy1kNs2mU6cPIi6cjiwquN540fdnMK/x9g9/BvUEjb44RAyiK5UZWQpIAzgjaawZX3nvThROMUZJ7vvPNOSbU8nTkb1kPWm9hzdoGT6cUXX5QyanFY2qLn1BKZ7OHxhOE80UYV9Rv4NMGfxB5PIcefxB5PIcdvYo+nkOM3scdTyPGb2OMp5PhN7PEUcvwm9ngKNUr9AxoBIwbH1rX5AAAAAElFTkSuQmCC)\n",
        "\n"
      ],
      "metadata": {
        "id": "97Y6T3KYKM6o"
      }
    },
    {
      "cell_type": "code",
      "source": [
        "import math\n",
        "\n",
        "# nilai mse yg sudah di ketahui dan dihitung di atas\n",
        "mse = 3.8\n",
        "\n",
        "rmse= math.sqrt(mse)\n",
        "print(\"RMSE\",rmse)"
      ],
      "metadata": {
        "colab": {
          "base_uri": "https://localhost:8080/"
        },
        "id": "wClclUI0Ltx2",
        "outputId": "1f6f7217-e560-4662-9699-1361bda4e70e"
      },
      "execution_count": 14,
      "outputs": [
        {
          "output_type": "stream",
          "name": "stdout",
          "text": [
            "RMSE 1.9493588689617927\n"
          ]
        }
      ]
    },
    {
      "cell_type": "markdown",
      "source": [
        "Note : bahwa nilai rmse ini dari non negatif artinya 0 - infinity\n",
        "\n",
        "> Hitungan Manualnya : akar kuadrat(sqrt) dari 3,8 = 1.9493588689617927\n",
        "\n"
      ],
      "metadata": {
        "id": "JzZwzZNlMPJM"
      }
    },
    {
      "cell_type": "code",
      "source": [
        "print(1.9493588689617927*1.9493588689617927)"
      ],
      "metadata": {
        "colab": {
          "base_uri": "https://localhost:8080/"
        },
        "id": "6CE9vF_sMtQI",
        "outputId": "d76df2af-6815-4dd3-a2ec-91e86e767030"
      },
      "execution_count": 18,
      "outputs": [
        {
          "output_type": "stream",
          "name": "stdout",
          "text": [
            "3.7999999999999994\n"
          ]
        }
      ]
    },
    {
      "cell_type": "markdown",
      "source": [
        "\"Pengaplikasian MAE dalan konteks jika linear reggressionnya diketahui\"\n",
        "![Screenshot 2024-03-27 022326.png](data:image/png;base64,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)"
      ],
      "metadata": {
        "id": "ky2nTQg7OF_R"
      }
    },
    {
      "cell_type": "code",
      "source": [
        "from sklearn.metrics import mean_absolute_error\n",
        "y_mae = [1,2,3,4,5]\n",
        "y_pred_mae = [2,3,5,2,2]\n",
        "\n",
        "# Hitung MAE\n",
        "mae = mean_absolute_error(y_mae, y_pred_mae)\n",
        "print('MAE: ', mae)\n"
      ],
      "metadata": {
        "colab": {
          "base_uri": "https://localhost:8080/"
        },
        "id": "eGoS0ZzfObeD",
        "outputId": "622b777d-6bdb-4e6a-b814-4cd6ff243d34"
      },
      "execution_count": 20,
      "outputs": [
        {
          "output_type": "stream",
          "name": "stdout",
          "text": [
            "MAE:  1.8\n"
          ]
        }
      ]
    },
    {
      "cell_type": "markdown",
      "source": [
        "**Hitungan Manualnya**\n",
        "\n",
        "\n",
        "> Menghitung selisih antara data aktual dan faktual : |1-2|+|2-3|+|3-5|+|4-2|+|5-2| = 1+1+2+2+3\n",
        "\n",
        "\n",
        "> = 9\n",
        "\n",
        "\n",
        "> = 9/5\n",
        "\n",
        "\n",
        "> 1.8\n",
        "\n",
        "\n",
        "\n",
        "\n",
        "\n",
        "\n",
        "\n"
      ],
      "metadata": {
        "id": "hSturrPlO7nZ"
      }
    },
    {
      "cell_type": "code",
      "source": [
        "print(9/5)"
      ],
      "metadata": {
        "colab": {
          "base_uri": "https://localhost:8080/"
        },
        "id": "WcuzYtolQzd1",
        "outputId": "ab19bd0d-6e12-4a3b-efc6-52463f287284"
      },
      "execution_count": 22,
      "outputs": [
        {
          "output_type": "stream",
          "name": "stdout",
          "text": [
            "1.8\n"
          ]
        }
      ]
    }
  ]
}