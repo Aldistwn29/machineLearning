{
  "nbformat": 4,
  "nbformat_minor": 0,
  "metadata": {
    "colab": {
      "provenance": [],
      "authorship_tag": "ABX9TyNsg8BRbrcjqWETE7e/CKr/",
      "include_colab_link": true
    },
    "kernelspec": {
      "name": "python3",
      "display_name": "Python 3"
    },
    "language_info": {
      "name": "python"
    }
  },
  "cells": [
    {
      "cell_type": "markdown",
      "metadata": {
        "id": "view-in-github",
        "colab_type": "text"
      },
      "source": [
        "<a href=\"https://colab.research.google.com/github/Aldistwn29/machineLearning/blob/main/Model_Evaluasi_Regresi.ipynb\" target=\"_parent\"><img src=\"https://colab.research.google.com/assets/colab-badge.svg\" alt=\"Open In Colab\"/></a>"
      ]
    },
    {
      "cell_type": "markdown",
      "source": [
        "\"Pengaplikasian R squared dalam konteks nilai prediksinya sudah di ketahui\"![Screenshot 2024-03-27 011832.png](data:image/png;base64,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)"
      ],
      "metadata": {
        "id": "etnmCS4v80A3"
      }
    },
    {
      "cell_type": "code",
      "execution_count": 6,
      "metadata": {
        "colab": {
          "base_uri": "https://localhost:8080/"
        },
        "id": "2LApAC9M8Q6X",
        "outputId": "501860b5-bf92-48f9-d256-4dc9c9bbb08f"
      },
      "outputs": [
        {
          "output_type": "stream",
          "name": "stdout",
          "text": [
            "R-squared : -0.8999999999999999\n"
          ]
        }
      ],
      "source": [
        "from sklearn.metrics import r2_score\n",
        "y = [1,2,3,4,5]\n",
        "y_pred= [2,3,5,2,2]\n",
        "\n",
        "# Hitung R-squared\n",
        "r_squared = r2_score(y, y_pred)\n",
        "print('R-squared :', r_squared)"
      ]
    },
    {
      "cell_type": "markdown",
      "source": [
        "# Perhitungan Manualnya"
      ],
      "metadata": {
        "id": "8o5ZASB99sld"
      }
    },
    {
      "cell_type": "markdown",
      "source": [
        "dengan nilai y dan y_pred nya sbb:\n",
        "\n",
        "> y = [1,2,3,4,5]\n",
        "  | y_pred= [2,3,5,2,2]\n",
        "\n",
        "\n",
        "\n",
        "Hitung Rata-rata dari y : y_pred = 1/n ∑\n",
        "i=1  y\n",
        "\n",
        "y_pred = 1/5 (1+2+3+4+5/5)\n",
        "= 15/5\n",
        "= 3\n",
        "\n",
        "\n",
        "> y_pred = 1/5 (1+2+3+4+5/5)\n",
        "= 15/5\n",
        "= 3\n",
        "\n",
        "\n",
        "> Hitung SST : (1-3)^2+(2-3)^2+(3-3)^2+(4-3)^2+(5-3)^2\n",
        " = 4+1+0+1+4\n",
        " = 10\n",
        "\n",
        "\n",
        "\n",
        "> Hitung SSE : (1-2)^2+(2-3)^2+(3-5)^2+(4-2)^2+(5-2)^2\n",
        "= 1+1+4+4+9\n",
        "=19\n",
        "\n",
        "\n",
        "\n",
        "> Hitung R-squared : 1 - 19/10\n",
        "= 1 - 1,9\n",
        "= -0.8999999999999999/ -0.9\n",
        "\n",
        "\n",
        "\n",
        "\n",
        "\n",
        "\n",
        "\n",
        "\n"
      ],
      "metadata": {
        "id": "zLFfCAtK93sk"
      }
    },
    {
      "cell_type": "code",
      "source": [
        "print(1-1.9)"
      ],
      "metadata": {
        "colab": {
          "base_uri": "https://localhost:8080/"
        },
        "id": "c0P2o63D-RAO",
        "outputId": "06e85ac3-9f4d-4c7b-dcb7-5034e45858bc"
      },
      "execution_count": 9,
      "outputs": [
        {
          "output_type": "stream",
          "name": "stdout",
          "text": [
            "-0.8999999999999999\n"
          ]
        }
      ]
    }
  ]
}