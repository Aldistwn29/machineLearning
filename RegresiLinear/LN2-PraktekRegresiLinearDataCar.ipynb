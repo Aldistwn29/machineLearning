{
  "cells": [
    {
      "cell_type": "markdown",
      "metadata": {
        "id": "L5BLkta8tmkL"
      },
      "source": [
        "Secara matematis, persamaan dari Simple Linear Regression adalah sebagai berikut:\n",
        "\n",
        "y = mx + b + e\n",
        "\n",
        "y = dependent variable\n",
        "m = slope dari garis (persamaan diatas merupakan sebuah garis)\n",
        "x = independent variable\n",
        "b = intercept\n",
        "e = error"
      ]
    },
    {
      "cell_type": "markdown",
      "metadata": {
        "id": "BnupQJ6dwmXG"
      },
      "source": [
        "https://medium.com/@adiptamartulandi/belajar-machine-learning-simple-linear-regression-di-python-e82972695eaf"
      ]
    },
    {
      "cell_type": "code",
      "execution_count": 1,
      "metadata": {
        "id": "-OI80fgJFGth"
      },
      "outputs": [],
      "source": [
        "import pandas as pd\n",
        "import matplotlib.pyplot as plt\n",
        "from sklearn.linear_model import LinearRegression\n",
        "from sklearn.model_selection import train_test_split"
      ]
    },
    {
      "cell_type": "code",
      "execution_count": 4,
      "metadata": {
        "id": "ZstkZc7eqMij"
      },
      "outputs": [],
      "source": [
        "df = pd.read_csv('LN2-car.csv', usecols=['horsepower', 'price'])"
      ]
    },
    {
      "cell_type": "code",
      "execution_count": 5,
      "metadata": {
        "colab": {
          "base_uri": "https://localhost:8080/",
          "height": 206
        },
        "id": "dZgYD4SpGCN3",
        "outputId": "dc2326a0-6219-4cf1-9b81-a6f3f7421b74"
      },
      "outputs": [
        {
          "data": {
            "text/html": [
              "<div>\n",
              "<style scoped>\n",
              "    .dataframe tbody tr th:only-of-type {\n",
              "        vertical-align: middle;\n",
              "    }\n",
              "\n",
              "    .dataframe tbody tr th {\n",
              "        vertical-align: top;\n",
              "    }\n",
              "\n",
              "    .dataframe thead th {\n",
              "        text-align: right;\n",
              "    }\n",
              "</style>\n",
              "<table border=\"1\" class=\"dataframe\">\n",
              "  <thead>\n",
              "    <tr style=\"text-align: right;\">\n",
              "      <th></th>\n",
              "      <th>horsepower</th>\n",
              "      <th>price</th>\n",
              "    </tr>\n",
              "  </thead>\n",
              "  <tbody>\n",
              "    <tr>\n",
              "      <th>0</th>\n",
              "      <td>111.0</td>\n",
              "      <td>13495.0</td>\n",
              "    </tr>\n",
              "    <tr>\n",
              "      <th>1</th>\n",
              "      <td>111.0</td>\n",
              "      <td>16500.0</td>\n",
              "    </tr>\n",
              "    <tr>\n",
              "      <th>2</th>\n",
              "      <td>154.0</td>\n",
              "      <td>16500.0</td>\n",
              "    </tr>\n",
              "    <tr>\n",
              "      <th>3</th>\n",
              "      <td>102.0</td>\n",
              "      <td>13950.0</td>\n",
              "    </tr>\n",
              "    <tr>\n",
              "      <th>4</th>\n",
              "      <td>115.0</td>\n",
              "      <td>17450.0</td>\n",
              "    </tr>\n",
              "  </tbody>\n",
              "</table>\n",
              "</div>"
            ],
            "text/plain": [
              "   horsepower    price\n",
              "0       111.0  13495.0\n",
              "1       111.0  16500.0\n",
              "2       154.0  16500.0\n",
              "3       102.0  13950.0\n",
              "4       115.0  17450.0"
            ]
          },
          "execution_count": 5,
          "metadata": {},
          "output_type": "execute_result"
        }
      ],
      "source": [
        "#Melihat 5 baris teratas dari data.\n",
        "#Independent variabel(x) adalah horsepower.\n",
        "#Dependent variabel(y) adalah price.\n",
        "df.head()"
      ]
    },
    {
      "cell_type": "code",
      "execution_count": 6,
      "metadata": {
        "colab": {
          "base_uri": "https://localhost:8080/"
        },
        "id": "6THrRdqQuZ8_",
        "outputId": "c695b7b3-55e8-4ab3-f326-367f4b1c9ebf"
      },
      "outputs": [
        {
          "data": {
            "text/plain": [
              "(200, 2)"
            ]
          },
          "execution_count": 6,
          "metadata": {},
          "output_type": "execute_result"
        }
      ],
      "source": [
        "#Mengetahui jumlah kolom dan baris dari data.\n",
        "#Data kita mempunya 2 kolom dengan 200 baris.\n",
        "df.shape"
      ]
    },
    {
      "cell_type": "code",
      "execution_count": 7,
      "metadata": {
        "colab": {
          "base_uri": "https://localhost:8080/"
        },
        "id": "KWtYM53NufHU",
        "outputId": "8c404d56-b241-4e01-c351-b33c75e3f86a"
      },
      "outputs": [
        {
          "name": "stdout",
          "output_type": "stream",
          "text": [
            "<class 'pandas.core.frame.DataFrame'>\n",
            "RangeIndex: 200 entries, 0 to 199\n",
            "Data columns (total 2 columns):\n",
            " #   Column      Non-Null Count  Dtype  \n",
            "---  ------      --------------  -----  \n",
            " 0   horsepower  200 non-null    float64\n",
            " 1   price       200 non-null    float64\n",
            "dtypes: float64(2)\n",
            "memory usage: 3.2 KB\n"
          ]
        }
      ],
      "source": [
        "#Melihat informasi data kita mulai dari jumlah data, tipe data, memory yang digunakan dll.\n",
        "df.info()"
      ]
    },
    {
      "cell_type": "code",
      "execution_count": 8,
      "metadata": {
        "colab": {
          "base_uri": "https://localhost:8080/",
          "height": 301
        },
        "id": "t1atZ9AmukYp",
        "outputId": "9b91316a-6fe5-45e2-b086-e091341f87ef"
      },
      "outputs": [
        {
          "data": {
            "text/html": [
              "<div>\n",
              "<style scoped>\n",
              "    .dataframe tbody tr th:only-of-type {\n",
              "        vertical-align: middle;\n",
              "    }\n",
              "\n",
              "    .dataframe tbody tr th {\n",
              "        vertical-align: top;\n",
              "    }\n",
              "\n",
              "    .dataframe thead th {\n",
              "        text-align: right;\n",
              "    }\n",
              "</style>\n",
              "<table border=\"1\" class=\"dataframe\">\n",
              "  <thead>\n",
              "    <tr style=\"text-align: right;\">\n",
              "      <th></th>\n",
              "      <th>horsepower</th>\n",
              "      <th>price</th>\n",
              "    </tr>\n",
              "  </thead>\n",
              "  <tbody>\n",
              "    <tr>\n",
              "      <th>count</th>\n",
              "      <td>200.000000</td>\n",
              "      <td>200.000000</td>\n",
              "    </tr>\n",
              "    <tr>\n",
              "      <th>mean</th>\n",
              "      <td>103.320000</td>\n",
              "      <td>13230.375000</td>\n",
              "    </tr>\n",
              "    <tr>\n",
              "      <th>std</th>\n",
              "      <td>37.468615</td>\n",
              "      <td>7960.155239</td>\n",
              "    </tr>\n",
              "    <tr>\n",
              "      <th>min</th>\n",
              "      <td>48.000000</td>\n",
              "      <td>5118.000000</td>\n",
              "    </tr>\n",
              "    <tr>\n",
              "      <th>25%</th>\n",
              "      <td>70.000000</td>\n",
              "      <td>7775.000000</td>\n",
              "    </tr>\n",
              "    <tr>\n",
              "      <th>50%</th>\n",
              "      <td>95.000000</td>\n",
              "      <td>10320.000000</td>\n",
              "    </tr>\n",
              "    <tr>\n",
              "      <th>75%</th>\n",
              "      <td>116.000000</td>\n",
              "      <td>16500.750000</td>\n",
              "    </tr>\n",
              "    <tr>\n",
              "      <th>max</th>\n",
              "      <td>262.000000</td>\n",
              "      <td>45400.000000</td>\n",
              "    </tr>\n",
              "  </tbody>\n",
              "</table>\n",
              "</div>"
            ],
            "text/plain": [
              "       horsepower         price\n",
              "count  200.000000    200.000000\n",
              "mean   103.320000  13230.375000\n",
              "std     37.468615   7960.155239\n",
              "min     48.000000   5118.000000\n",
              "25%     70.000000   7775.000000\n",
              "50%     95.000000  10320.000000\n",
              "75%    116.000000  16500.750000\n",
              "max    262.000000  45400.000000"
            ]
          },
          "execution_count": 8,
          "metadata": {},
          "output_type": "execute_result"
        }
      ],
      "source": [
        "#Melihat statistical description dari data mulai dari mean, kuartil, standard deviation dll.\n",
        "df.describe()"
      ]
    },
    {
      "cell_type": "code",
      "execution_count": 9,
      "metadata": {
        "colab": {
          "base_uri": "https://localhost:8080/"
        },
        "id": "3PU7tn3auqNN",
        "outputId": "3855b5ed-b44f-4a13-bd69-10501638d45d"
      },
      "outputs": [
        {
          "data": {
            "text/plain": [
              "horsepower    0\n",
              "price         0\n",
              "dtype: int64"
            ]
          },
          "execution_count": 9,
          "metadata": {},
          "output_type": "execute_result"
        }
      ],
      "source": [
        "#Mencari dan menangani missing values.\n",
        "#Ternyata data kita tidak ada missing values.\n",
        "df.isnull().sum()"
      ]
    },
    {
      "cell_type": "code",
      "execution_count": 10,
      "metadata": {
        "colab": {
          "base_uri": "https://localhost:8080/",
          "height": 265
        },
        "id": "aOeorz-BuvbC",
        "outputId": "b17c44c7-e654-4af9-fd51-210c65727cc6"
      },
      "outputs": [
        {
          "data": {
            "image/png": "[encoded data removed]",
            "text/plain": [
              "<Figure size 1200x400 with 2 Axes>"
            ]
          },
          "metadata": {},
          "output_type": "display_data"
        }
      ],
      "source": [
        "#Univariate analysis horsepower.\n",
        "#Melihat distribusi dari horsepower.\n",
        "f = plt.figure(figsize=(12,4))\n",
        "f.add_subplot(1,2,1)\n",
        "df['horsepower'].plot(kind='kde')\n",
        "f.add_subplot(1,2,2)\n",
        "plt.boxplot(df['horsepower'])\n",
        "plt.show()"
      ]
    },
    {
      "cell_type": "markdown",
      "metadata": {
        "id": "xUwoIciau9Y3"
      },
      "source": [
        "Dapat dilihat bahwa mean dan median dari horsepower terpusat di sekitar nilai 100.\n",
        "Distribusinya hampir mirip dengan distribusi normal namun persebaran data kurang merata (memiliki standard deviasi yang tinggi) karena memiliki whiskers boxplot yang panjang.\n",
        "Terdapat 3 outliers data yang bisa dilihat di boxplot."
      ]
    },
    {
      "cell_type": "code",
      "execution_count": 11,
      "metadata": {
        "colab": {
          "base_uri": "https://localhost:8080/",
          "height": 276
        },
        "id": "TpQHMdOGF9tC",
        "outputId": "912c1463-c78c-4bbb-8202-cba8adfb41e7"
      },
      "outputs": [
        {
          "data": {
            "image/png": "[encoded data removed]",
            "text/plain": [
              "<Figure size 1200x400 with 2 Axes>"
            ]
          },
          "metadata": {},
          "output_type": "display_data"
        }
      ],
      "source": [
        "#Univariate analysis price.\n",
        "#Melihat distribusi dari price.\n",
        "f = plt.figure(figsize=(12,4))\n",
        "f.add_subplot(1,2,1)\n",
        "df['price'].plot(kind='kde', c='g')\n",
        "f.add_subplot(1,2,2)\n",
        "plt.boxplot(df['price'])\n",
        "plt.show()"
      ]
    },
    {
      "cell_type": "markdown",
      "metadata": {
        "id": "0Rwa6miBvKUb"
      },
      "source": [
        "Mean dan median dari price terpusat di sekitar nilai 10000.\n",
        "Distribusinya lebih ke right skew dan persebaran data kurang merata (memiliki standard deviasi yang tinggi).\n",
        "Data memiliki banyak outliers jika dibandingkan dengan horsepower."
      ]
    },
    {
      "cell_type": "code",
      "execution_count": 12,
      "metadata": {
        "colab": {
          "base_uri": "https://localhost:8080/",
          "height": 295
        },
        "id": "fLy4kr4fvF8e",
        "outputId": "e4d6ad52-80de-4480-a2bd-d02d3178d2f9"
      },
      "outputs": [
        {
          "data": {
            "image/png": "[encoded data removed]",
            "text/plain": [
              "<Figure size 640x480 with 1 Axes>"
            ]
          },
          "metadata": {},
          "output_type": "display_data"
        }
      ],
      "source": [
        "#Bivariate analysis horsepower dan price.\n",
        "#Menggunakan scatter plot.\n",
        "plt.scatter(df['horsepower'], df['price'])\n",
        "plt.xlabel('Horsepower')\n",
        "plt.ylabel('Price')\n",
        "plt.title('Scatter Plot Horsepower vs Price')\n",
        "plt.show()"
      ]
    },
    {
      "cell_type": "markdown",
      "metadata": {
        "id": "g9Fx7rgRvaGw"
      },
      "source": [
        "Dari scatter plot dapat dilihat secara kasat mata bahwa data memiliki korelasi positif yang cukup signifikan.\n",
        "Hal ini berarti dengan bertambahnya nilai dari horsepower maka nilai price pun akan bertambah."
      ]
    },
    {
      "cell_type": "code",
      "execution_count": 13,
      "metadata": {
        "colab": {
          "base_uri": "https://localhost:8080/",
          "height": 112
        },
        "id": "6Nf93T75vcQm",
        "outputId": "0b818d0c-1a35-4193-ed7b-e4fc9e1db8c2"
      },
      "outputs": [
        {
          "data": {
            "text/html": [
              "<div>\n",
              "<style scoped>\n",
              "    .dataframe tbody tr th:only-of-type {\n",
              "        vertical-align: middle;\n",
              "    }\n",
              "\n",
              "    .dataframe tbody tr th {\n",
              "        vertical-align: top;\n",
              "    }\n",
              "\n",
              "    .dataframe thead th {\n",
              "        text-align: right;\n",
              "    }\n",
              "</style>\n",
              "<table border=\"1\" class=\"dataframe\">\n",
              "  <thead>\n",
              "    <tr style=\"text-align: right;\">\n",
              "      <th></th>\n",
              "      <th>horsepower</th>\n",
              "      <th>price</th>\n",
              "    </tr>\n",
              "  </thead>\n",
              "  <tbody>\n",
              "    <tr>\n",
              "      <th>horsepower</th>\n",
              "      <td>1.000000</td>\n",
              "      <td>0.811097</td>\n",
              "    </tr>\n",
              "    <tr>\n",
              "      <th>price</th>\n",
              "      <td>0.811097</td>\n",
              "      <td>1.000000</td>\n",
              "    </tr>\n",
              "  </tbody>\n",
              "</table>\n",
              "</div>"
            ],
            "text/plain": [
              "            horsepower     price\n",
              "horsepower    1.000000  0.811097\n",
              "price         0.811097  1.000000"
            ]
          },
          "execution_count": 13,
          "metadata": {},
          "output_type": "execute_result"
        }
      ],
      "source": [
        "#Mengetahui nilai korelasi dari horsepower dan price.\n",
        "#Nilai korelasinya adalah 0.81 termasuk kategori sangat tinggi.\n",
        "df.corr()"
      ]
    },
    {
      "cell_type": "code",
      "execution_count": 17,
      "metadata": {
        "id": "IfyrpiZLvlXx"
      },
      "outputs": [],
      "source": [
        "#Pertama, buat variabel x dan y.\n",
        "x = df['horsepower'].values.reshape(-1,1)\n",
        "y = df['price'].values.reshape(-1,1)"
      ]
    },
    {
      "cell_type": "code",
      "execution_count": 18,
      "metadata": {},
      "outputs": [
        {
          "data": {
            "text/plain": [
              "array([[111.],\n",
              "       [111.],\n",
              "       [154.],\n",
              "       [102.],\n",
              "       [115.],\n",
              "       [110.],\n",
              "       [110.],\n",
              "       [110.],\n",
              "       [140.],\n",
              "       [101.],\n",
              "       [101.],\n",
              "       [121.],\n",
              "       [121.],\n",
              "       [121.],\n",
              "       [182.],\n",
              "       [182.],\n",
              "       [182.],\n",
              "       [ 48.],\n",
              "       [ 70.],\n",
              "       [ 70.],\n",
              "       [ 68.],\n",
              "       [ 68.],\n",
              "       [102.],\n",
              "       [ 68.],\n",
              "       [ 68.],\n",
              "       [ 68.],\n",
              "       [ 88.],\n",
              "       [145.],\n",
              "       [ 58.],\n",
              "       [ 76.],\n",
              "       [ 60.],\n",
              "       [ 76.],\n",
              "       [ 76.],\n",
              "       [ 76.],\n",
              "       [ 76.],\n",
              "       [ 86.],\n",
              "       [ 86.],\n",
              "       [ 86.],\n",
              "       [ 86.],\n",
              "       [101.],\n",
              "       [100.],\n",
              "       [ 78.],\n",
              "       [ 90.],\n",
              "       [176.],\n",
              "       [176.],\n",
              "       [262.],\n",
              "       [ 68.],\n",
              "       [ 68.],\n",
              "       [ 68.],\n",
              "       [ 68.],\n",
              "       [ 68.],\n",
              "       [101.],\n",
              "       [101.],\n",
              "       [101.],\n",
              "       [135.],\n",
              "       [ 84.],\n",
              "       [ 84.],\n",
              "       [ 84.],\n",
              "       [ 84.],\n",
              "       [ 64.],\n",
              "       [ 84.],\n",
              "       [120.],\n",
              "       [ 72.],\n",
              "       [123.],\n",
              "       [123.],\n",
              "       [123.],\n",
              "       [123.],\n",
              "       [155.],\n",
              "       [155.],\n",
              "       [184.],\n",
              "       [184.],\n",
              "       [175.],\n",
              "       [ 68.],\n",
              "       [ 68.],\n",
              "       [ 68.],\n",
              "       [102.],\n",
              "       [116.],\n",
              "       [ 88.],\n",
              "       [145.],\n",
              "       [145.],\n",
              "       [145.],\n",
              "       [ 88.],\n",
              "       [ 88.],\n",
              "       [116.],\n",
              "       [116.],\n",
              "       [ 69.],\n",
              "       [ 55.],\n",
              "       [ 69.],\n",
              "       [ 69.],\n",
              "       [ 69.],\n",
              "       [ 69.],\n",
              "       [ 69.],\n",
              "       [ 69.],\n",
              "       [ 69.],\n",
              "       [ 69.],\n",
              "       [ 97.],\n",
              "       [ 97.],\n",
              "       [152.],\n",
              "       [152.],\n",
              "       [152.],\n",
              "       [160.],\n",
              "       [200.],\n",
              "       [160.],\n",
              "       [ 97.],\n",
              "       [ 95.],\n",
              "       [ 97.],\n",
              "       [ 95.],\n",
              "       [ 95.],\n",
              "       [ 95.],\n",
              "       [ 95.],\n",
              "       [ 95.],\n",
              "       [ 97.],\n",
              "       [ 95.],\n",
              "       [142.],\n",
              "       [ 68.],\n",
              "       [102.],\n",
              "       [ 68.],\n",
              "       [ 68.],\n",
              "       [ 68.],\n",
              "       [ 88.],\n",
              "       [145.],\n",
              "       [143.],\n",
              "       [207.],\n",
              "       [207.],\n",
              "       [207.],\n",
              "       [ 95.],\n",
              "       [ 95.],\n",
              "       [110.],\n",
              "       [110.],\n",
              "       [110.],\n",
              "       [110.],\n",
              "       [160.],\n",
              "       [160.],\n",
              "       [ 69.],\n",
              "       [ 73.],\n",
              "       [ 73.],\n",
              "       [ 82.],\n",
              "       [ 82.],\n",
              "       [ 94.],\n",
              "       [ 82.],\n",
              "       [111.],\n",
              "       [ 82.],\n",
              "       [ 94.],\n",
              "       [ 82.],\n",
              "       [111.],\n",
              "       [ 62.],\n",
              "       [ 62.],\n",
              "       [ 62.],\n",
              "       [ 62.],\n",
              "       [ 62.],\n",
              "       [ 62.],\n",
              "       [ 70.],\n",
              "       [ 70.],\n",
              "       [ 56.],\n",
              "       [ 56.],\n",
              "       [ 70.],\n",
              "       [ 70.],\n",
              "       [ 70.],\n",
              "       [ 70.],\n",
              "       [ 70.],\n",
              "       [112.],\n",
              "       [112.],\n",
              "       [116.],\n",
              "       [116.],\n",
              "       [116.],\n",
              "       [116.],\n",
              "       [116.],\n",
              "       [116.],\n",
              "       [ 92.],\n",
              "       [ 73.],\n",
              "       [ 92.],\n",
              "       [ 92.],\n",
              "       [ 92.],\n",
              "       [161.],\n",
              "       [161.],\n",
              "       [156.],\n",
              "       [156.],\n",
              "       [ 52.],\n",
              "       [ 85.],\n",
              "       [ 52.],\n",
              "       [ 85.],\n",
              "       [ 85.],\n",
              "       [ 68.],\n",
              "       [100.],\n",
              "       [ 90.],\n",
              "       [ 90.],\n",
              "       [110.],\n",
              "       [ 68.],\n",
              "       [ 88.],\n",
              "       [114.],\n",
              "       [114.],\n",
              "       [114.],\n",
              "       [114.],\n",
              "       [162.],\n",
              "       [162.],\n",
              "       [114.],\n",
              "       [160.],\n",
              "       [134.],\n",
              "       [106.],\n",
              "       [114.]])"
            ]
          },
          "execution_count": 18,
          "metadata": {},
          "output_type": "execute_result"
        }
      ],
      "source": [
        "x"
      ]
    },
    {
      "cell_type": "code",
      "execution_count": 19,
      "metadata": {},
      "outputs": [
        {
          "data": {
            "text/plain": [
              "array([[13495.],\n",
              "       [16500.],\n",
              "       [16500.],\n",
              "       [13950.],\n",
              "       [17450.],\n",
              "       [15250.],\n",
              "       [17710.],\n",
              "       [18920.],\n",
              "       [23875.],\n",
              "       [16430.],\n",
              "       [16925.],\n",
              "       [20970.],\n",
              "       [21105.],\n",
              "       [24565.],\n",
              "       [30760.],\n",
              "       [41315.],\n",
              "       [36880.],\n",
              "       [ 5151.],\n",
              "       [ 6295.],\n",
              "       [ 6575.],\n",
              "       [ 5572.],\n",
              "       [ 6377.],\n",
              "       [ 7957.],\n",
              "       [ 6229.],\n",
              "       [ 6692.],\n",
              "       [ 7609.],\n",
              "       [ 8921.],\n",
              "       [12964.],\n",
              "       [ 6479.],\n",
              "       [ 6855.],\n",
              "       [ 5399.],\n",
              "       [ 6529.],\n",
              "       [ 7129.],\n",
              "       [ 7295.],\n",
              "       [ 7295.],\n",
              "       [ 7895.],\n",
              "       [ 9095.],\n",
              "       [ 8845.],\n",
              "       [10295.],\n",
              "       [12945.],\n",
              "       [10345.],\n",
              "       [ 6785.],\n",
              "       [11048.],\n",
              "       [32250.],\n",
              "       [35550.],\n",
              "       [36000.],\n",
              "       [ 5195.],\n",
              "       [ 6095.],\n",
              "       [ 6795.],\n",
              "       [ 6695.],\n",
              "       [ 7395.],\n",
              "       [10945.],\n",
              "       [11845.],\n",
              "       [13645.],\n",
              "       [15645.],\n",
              "       [ 8845.],\n",
              "       [ 8495.],\n",
              "       [10595.],\n",
              "       [10245.],\n",
              "       [10795.],\n",
              "       [11245.],\n",
              "       [18280.],\n",
              "       [18344.],\n",
              "       [25552.],\n",
              "       [28248.],\n",
              "       [28176.],\n",
              "       [31600.],\n",
              "       [34184.],\n",
              "       [35056.],\n",
              "       [40960.],\n",
              "       [45400.],\n",
              "       [16503.],\n",
              "       [ 5389.],\n",
              "       [ 6189.],\n",
              "       [ 6669.],\n",
              "       [ 7689.],\n",
              "       [ 9959.],\n",
              "       [ 8499.],\n",
              "       [12629.],\n",
              "       [14869.],\n",
              "       [14489.],\n",
              "       [ 6989.],\n",
              "       [ 8189.],\n",
              "       [ 9279.],\n",
              "       [ 9279.],\n",
              "       [ 5499.],\n",
              "       [ 7099.],\n",
              "       [ 6649.],\n",
              "       [ 6849.],\n",
              "       [ 7349.],\n",
              "       [ 7299.],\n",
              "       [ 7799.],\n",
              "       [ 7499.],\n",
              "       [ 7999.],\n",
              "       [ 8249.],\n",
              "       [ 8949.],\n",
              "       [ 9549.],\n",
              "       [13499.],\n",
              "       [14399.],\n",
              "       [13499.],\n",
              "       [17199.],\n",
              "       [19699.],\n",
              "       [18399.],\n",
              "       [11900.],\n",
              "       [13200.],\n",
              "       [12440.],\n",
              "       [13860.],\n",
              "       [15580.],\n",
              "       [16900.],\n",
              "       [16695.],\n",
              "       [17075.],\n",
              "       [16630.],\n",
              "       [17950.],\n",
              "       [18150.],\n",
              "       [ 5572.],\n",
              "       [ 7957.],\n",
              "       [ 6229.],\n",
              "       [ 6692.],\n",
              "       [ 7609.],\n",
              "       [ 8921.],\n",
              "       [12764.],\n",
              "       [22018.],\n",
              "       [32528.],\n",
              "       [34028.],\n",
              "       [37028.],\n",
              "       [ 9295.],\n",
              "       [ 9895.],\n",
              "       [11850.],\n",
              "       [12170.],\n",
              "       [15040.],\n",
              "       [15510.],\n",
              "       [18150.],\n",
              "       [18620.],\n",
              "       [ 5118.],\n",
              "       [ 7053.],\n",
              "       [ 7603.],\n",
              "       [ 7126.],\n",
              "       [ 7775.],\n",
              "       [ 9960.],\n",
              "       [ 9233.],\n",
              "       [11259.],\n",
              "       [ 7463.],\n",
              "       [10198.],\n",
              "       [ 8013.],\n",
              "       [11694.],\n",
              "       [ 5348.],\n",
              "       [ 6338.],\n",
              "       [ 6488.],\n",
              "       [ 6918.],\n",
              "       [ 7898.],\n",
              "       [ 8778.],\n",
              "       [ 6938.],\n",
              "       [ 7198.],\n",
              "       [ 7898.],\n",
              "       [ 7788.],\n",
              "       [ 7738.],\n",
              "       [ 8358.],\n",
              "       [ 9258.],\n",
              "       [ 8058.],\n",
              "       [ 8238.],\n",
              "       [ 9298.],\n",
              "       [ 9538.],\n",
              "       [ 8449.],\n",
              "       [ 9639.],\n",
              "       [ 9989.],\n",
              "       [11199.],\n",
              "       [11549.],\n",
              "       [17669.],\n",
              "       [ 8948.],\n",
              "       [10698.],\n",
              "       [ 9988.],\n",
              "       [10898.],\n",
              "       [11248.],\n",
              "       [16558.],\n",
              "       [15998.],\n",
              "       [15690.],\n",
              "       [15750.],\n",
              "       [ 7775.],\n",
              "       [ 7975.],\n",
              "       [ 7995.],\n",
              "       [ 8195.],\n",
              "       [ 8495.],\n",
              "       [ 9495.],\n",
              "       [ 9995.],\n",
              "       [11595.],\n",
              "       [ 9980.],\n",
              "       [13295.],\n",
              "       [13845.],\n",
              "       [12290.],\n",
              "       [12940.],\n",
              "       [13415.],\n",
              "       [15985.],\n",
              "       [16515.],\n",
              "       [18420.],\n",
              "       [18950.],\n",
              "       [16845.],\n",
              "       [19045.],\n",
              "       [21485.],\n",
              "       [22470.],\n",
              "       [22625.]])"
            ]
          },
          "execution_count": 19,
          "metadata": {},
          "output_type": "execute_result"
        }
      ],
      "source": [
        "y"
      ]
    },
    {
      "cell_type": "code",
      "execution_count": 20,
      "metadata": {
        "id": "1UZFuK4Evq2x"
      },
      "outputs": [],
      "source": [
        "x_train, x_test, y_train, y_test = train_test_split(x, y, test_size=0.2)"
      ]
    },
    {
      "cell_type": "code",
      "execution_count": 21,
      "metadata": {
        "id": "-aaKi6TTvvHQ"
      },
      "outputs": [],
      "source": [
        "lin_reg = LinearRegression()"
      ]
    },
    {
      "cell_type": "code",
      "execution_count": 22,
      "metadata": {
        "colab": {
          "base_uri": "https://localhost:8080/"
        },
        "id": "95t5xWrpv0WN",
        "outputId": "551ee53c-cda2-44fc-d86e-973fde5ab12b"
      },
      "outputs": [
        {
          "data": {
            "text/plain": [
              "LinearRegression()"
            ]
          },
          "execution_count": 22,
          "metadata": {},
          "output_type": "execute_result"
        }
      ],
      "source": [
        "lin_reg.fit(x_train, y_train)"
      ]
    },
    {
      "cell_type": "code",
      "execution_count": 23,
      "metadata": {
        "colab": {
          "base_uri": "https://localhost:8080/"
        },
        "id": "4NyrWcoJGxZ-",
        "outputId": "3f66a858-8e07-4131-b425-48fc8247fc21"
      },
      "outputs": [
        {
          "name": "stdout",
          "output_type": "stream",
          "text": [
            "[[176.59507501]]\n",
            "[-5108.82955018]\n"
          ]
        }
      ],
      "source": [
        "print(lin_reg.coef_)\n",
        "print(lin_reg.intercept_)"
      ]
    },
    {
      "cell_type": "markdown",
      "metadata": {
        "id": "YilSFdlIwG1M"
      },
      "source": [
        "Dari nilai m dan b diatas, kalau dimasukan ke dalam rumus menjadi:\n",
        "Y = 176.5950x — 8295.50"
      ]
    },
    {
      "cell_type": "code",
      "execution_count": 24,
      "metadata": {
        "colab": {
          "base_uri": "https://localhost:8080/"
        },
        "id": "22Ah2v7hwFt2",
        "outputId": "f07df0bd-bc20-4da8-f826-e45cf00d3de5"
      },
      "outputs": [
        {
          "data": {
            "text/plain": [
              "0.4796160055603662"
            ]
          },
          "execution_count": 24,
          "metadata": {},
          "output_type": "execute_result"
        }
      ],
      "source": [
        "lin_reg.score(x_test, y_test)"
      ]
    },
    {
      "cell_type": "code",
      "execution_count": 25,
      "metadata": {
        "colab": {
          "base_uri": "https://localhost:8080/",
          "height": 312
        },
        "id": "JG8dqhy1IUWw",
        "outputId": "69e98503-6f43-4c46-f65e-ebe1048bdccb"
      },
      "outputs": [
        {
          "data": {
            "text/plain": [
              "Text(0.5, 1.0, 'Plot Horsepower vs Price')"
            ]
          },
          "execution_count": 25,
          "metadata": {},
          "output_type": "execute_result"
        },
        {
          "data": {
            "image/png": "[encoded data removed]",
            "text/plain": [
              "<Figure size 640x480 with 1 Axes>"
            ]
          },
          "metadata": {},
          "output_type": "display_data"
        }
      ],
      "source": [
        "y_prediksi = lin_reg.predict(x_test)\n",
        "plt.scatter(x_test, y_test)\n",
        "plt.plot(x_test, y_prediksi, c='r')\n",
        "plt.xlabel('Horsepower')\n",
        "plt.ylabel('Price')\n",
        "plt.title('Plot Horsepower vs Price')"
      ]
    },
    {
      "cell_type": "code",
      "execution_count": 26,
      "metadata": {
        "colab": {
          "base_uri": "https://localhost:8080/"
        },
        "id": "qucIqUSVwdGD",
        "outputId": "2fe34433-f559-400e-95c3-657793602903"
      },
      "outputs": [
        {
          "data": {
            "text/plain": [
              "array([[12550.67795074]])"
            ]
          },
          "execution_count": 26,
          "metadata": {},
          "output_type": "execute_result"
        }
      ],
      "source": [
        "#Prediksi harga mobil dengan horsepower 100.\n",
        "lin_reg.predict([[100]])"
      ]
    },
    {
      "cell_type": "code",
      "execution_count": 27,
      "metadata": {},
      "outputs": [
        {
          "data": {
            "text/plain": [
              "array([[21380.4317012]])"
            ]
          },
          "execution_count": 27,
          "metadata": {},
          "output_type": "execute_result"
        }
      ],
      "source": [
        "#Prediksi harga mobil dengan horsepower 150.\n",
        "lin_reg.predict([[150]])"
      ]
    },
    {
      "cell_type": "code",
      "execution_count": 28,
      "metadata": {},
      "outputs": [
        {
          "data": {
            "text/plain": [
              "array([[30210.18545166]])"
            ]
          },
          "execution_count": 28,
          "metadata": {},
          "output_type": "execute_result"
        }
      ],
      "source": [
        "# Perdiksi harga mobil dengan hoesepower 200.\n",
        "lin_reg.predict([[200]])"
      ]
    }
  ],
  "metadata": {
    "colab": {
      "provenance": []
    },
    "kernelspec": {
      "display_name": "Python 3",
      "name": "python3"
    },
    "language_info": {
      "codemirror_mode": {
        "name": "ipython",
        "version": 3
      },
      "file_extension": ".py",
      "mimetype": "text/x-python",
      "name": "python",
      "nbconvert_exporter": "python",
      "pygments_lexer": "ipython3",
      "version": "3.9.13"
    }
  },
  "nbformat": 4,
  "nbformat_minor": 0
}
